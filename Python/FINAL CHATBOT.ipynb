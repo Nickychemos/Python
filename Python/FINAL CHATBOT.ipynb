{
 "cells": [
  {
   "cell_type": "code",
   "execution_count": 13,
   "id": "6a0786e9-f2b5-452f-ab4f-2ef63c3b47b8",
   "metadata": {},
   "outputs": [
    {
     "name": "stdin",
     "output_type": "stream",
     "text": [
      "Hello there, can I please have your name?  Nicky\n"
     ]
    },
    {
     "name": "stdout",
     "output_type": "stream",
     "text": [
      "Hello, nicky! I am your travel assistant today. Here are the travel options. Select what you want so I can assist you further. \n",
      "Type 'cancel' to end the conversation anytime.\n",
      "\n",
      "Available flights:\n",
      " - 2nd Oct\n",
      " - 5th Oct\n",
      " - 7th Oct\n",
      " - 8th Oct\n",
      " - 9th Oct\n",
      " - 10th Oct\n",
      " - 12th Oct\n",
      " - 15th Oct\n",
      " - 16th Oct\n",
      " - 18th Oct\n",
      " - 23rd Oct\n",
      " - 24th Oct\n",
      " - 29th Oct\n",
      " - 31st Oct\n",
      "\n",
      "Available hotel reservations:\n",
      " - Mumbai International Hotel\n",
      " - Jumanji Cuisine\n",
      " - Nakasaki Hotel\n",
      " - Tyson Resort\n",
      " - Pearly Beach Hotel\n",
      " - Beach Front Resort\n",
      " - Maersk Hotel\n",
      " - Ashawaah Fine Resort\n",
      " - Lakefront Hotel\n",
      "\n",
      "Available travel packages:\n",
      " - Masaai Mara\n",
      " - Lamu Archipelago\n",
      " - Nairobi National Park\n",
      " - Amboseli National Park\n",
      " - Mount Kenya & Central Higchlands\n",
      " - Lake Nakuru\n",
      " - Shaba and Samburu\n",
      " - Lake Victoria\n",
      " - Uhuru Park\n"
     ]
    },
    {
     "name": "stdin",
     "output_type": "stream",
     "text": [
      "\n",
      "You:  1st Oct\n"
     ]
    },
    {
     "name": "stdout",
     "output_type": "stream",
     "text": [
      "Chatbot: The flight available for 1st Oct is from Nairobi to Mumbai and is priced at: 320.0 USD\n"
     ]
    },
    {
     "name": "stdin",
     "output_type": "stream",
     "text": [
      "\n",
      "Do you need anything else? Yes/No:  5th Oct\n"
     ]
    },
    {
     "name": "stdout",
     "output_type": "stream",
     "text": [
      "Please respond with 'Yes' or 'No'.\n"
     ]
    },
    {
     "name": "stdin",
     "output_type": "stream",
     "text": [
      "\n",
      "Do you need anything else? Yes/No:  Masaai Mara\n"
     ]
    },
    {
     "name": "stdout",
     "output_type": "stream",
     "text": [
      "Please respond with 'Yes' or 'No'.\n"
     ]
    },
    {
     "name": "stdin",
     "output_type": "stream",
     "text": [
      "\n",
      "Do you need anything else? Yes/No:  Yes\n"
     ]
    },
    {
     "name": "stdout",
     "output_type": "stream",
     "text": [
      "Great! Here are your options again:\n",
      "\n",
      "\n",
      "Available flights:\n",
      " - 2nd Oct\n",
      " - 5th Oct\n",
      " - 7th Oct\n",
      " - 8th Oct\n",
      " - 9th Oct\n",
      " - 10th Oct\n",
      " - 12th Oct\n",
      " - 15th Oct\n",
      " - 16th Oct\n",
      " - 18th Oct\n",
      " - 23rd Oct\n",
      " - 24th Oct\n",
      " - 29th Oct\n",
      " - 31st Oct\n",
      "\n",
      "Available hotel reservations:\n",
      " - Mumbai International Hotel\n",
      " - Jumanji Cuisine\n",
      " - Nakasaki Hotel\n",
      " - Tyson Resort\n",
      " - Pearly Beach Hotel\n",
      " - Beach Front Resort\n",
      " - Maersk Hotel\n",
      " - Ashawaah Fine Resort\n",
      " - Lakefront Hotel\n",
      "\n",
      "Available travel packages:\n",
      " - Masaai Mara\n",
      " - Lamu Archipelago\n",
      " - Nairobi National Park\n",
      " - Amboseli National Park\n",
      " - Mount Kenya & Central Higchlands\n",
      " - Lake Nakuru\n",
      " - Shaba and Samburu\n",
      " - Lake Victoria\n",
      " - Uhuru Park\n"
     ]
    },
    {
     "name": "stdin",
     "output_type": "stream",
     "text": [
      "\n",
      "You:  Masaai Mara\n"
     ]
    },
    {
     "name": "stdout",
     "output_type": "stream",
     "text": [
      "Chatbot: To travel to Masaai Mara will cost 119.0 USD\n"
     ]
    },
    {
     "name": "stdin",
     "output_type": "stream",
     "text": [
      "\n",
      "Do you need anything else? Yes/No:  Yes\n"
     ]
    },
    {
     "name": "stdout",
     "output_type": "stream",
     "text": [
      "Great! Here are your options again:\n",
      "\n",
      "\n",
      "Available flights:\n",
      " - 2nd Oct\n",
      " - 5th Oct\n",
      " - 7th Oct\n",
      " - 8th Oct\n",
      " - 9th Oct\n",
      " - 10th Oct\n",
      " - 12th Oct\n",
      " - 15th Oct\n",
      " - 16th Oct\n",
      " - 18th Oct\n",
      " - 23rd Oct\n",
      " - 24th Oct\n",
      " - 29th Oct\n",
      " - 31st Oct\n",
      "\n",
      "Available hotel reservations:\n",
      " - Mumbai International Hotel\n",
      " - Jumanji Cuisine\n",
      " - Nakasaki Hotel\n",
      " - Tyson Resort\n",
      " - Pearly Beach Hotel\n",
      " - Beach Front Resort\n",
      " - Maersk Hotel\n",
      " - Ashawaah Fine Resort\n",
      " - Lakefront Hotel\n",
      "\n",
      "Available travel packages:\n",
      " - Masaai Mara\n",
      " - Lamu Archipelago\n",
      " - Nairobi National Park\n",
      " - Amboseli National Park\n",
      " - Mount Kenya & Central Higchlands\n",
      " - Lake Nakuru\n",
      " - Shaba and Samburu\n",
      " - Lake Victoria\n",
      " - Uhuru Park\n"
     ]
    },
    {
     "name": "stdin",
     "output_type": "stream",
     "text": [
      "\n",
      "You:  Jumanji Cuisine\n"
     ]
    },
    {
     "name": "stdout",
     "output_type": "stream",
     "text": [
      "Chatbot: The price for Jumanji Cuisine is 1120.0 USD per night, and it is currently Available\n"
     ]
    },
    {
     "name": "stdin",
     "output_type": "stream",
     "text": [
      "\n",
      "Do you need anything else? Yes/No:  No\n"
     ]
    },
    {
     "name": "stdout",
     "output_type": "stream",
     "text": [
      "\n",
      "Thank you for your time! Here are all your selections:\n",
      "['The flight available for 1st Oct is from Nairobi to Mumbai and is priced at: 320.0 USD', 'To travel to Masaai Mara will cost 119.0 USD', 'The price for Jumanji Cuisine is 1120.0 USD per night, and it is currently Available']\n"
     ]
    },
    {
     "name": "stdin",
     "output_type": "stream",
     "text": [
      "\n",
      "You:  cancel\n"
     ]
    },
    {
     "name": "stdout",
     "output_type": "stream",
     "text": [
      "Goodbye!\n"
     ]
    }
   ],
   "source": [
    "flight_bookings = {\n",
    "    \"1st Oct\": {\"Departure City\": \"Nairobi\", \"Destination\": \"Mumbai\", \"Availability\": \"Unavailable\", \"Price\": 320.00},\n",
    "    \"2nd Oct\": {\"Departure City\": \"Eldoret\", \"Destination\": \"New York\", \"Availability\": \"Available\", \"Price\": 356.00},\n",
    "    \"3rd Oct\": {\"Departure City\": \"Kisumu\", \"Destination\": \"Nairobi\", \"Availability\": \"Unavailable\", \"Price\": 344.00},\n",
    "    \"4th Oct\": {\"Departure City\": \"Nairobi\", \"Destination\": \"Amboseli\", \"Availability\": \"Unavailable\", \"Price\": 367.00},\n",
    "    \"5th Oct\": {\"Departure City\": \"Kisumu\", \"Destination\": \"Mumbai\", \"Availability\": \"Available\", \"Price\": 322.00},\n",
    "    \"6th Oct\": {\"Departure City\": \"Mombasa\", \"Destination\": \"Nairobi\", \"Availability\": \"Unavailable\", \"Price\": 322.00},\n",
    "    \"7th Oct\": {\"Departure City\": \"Nairobi\", \"Destination\": \"New York\", \"Availability\": \"Available\", \"Price\": 320.00},\n",
    "    \"8th Oct\": {\"Departure City\": \"Kisumu\", \"Destination\": \"Amboseli\", \"Availability\": \"Available\", \"Price\": 334.00},\n",
    "    \"9th Oct\": {\"Departure City\": \"Mombasa\", \"Destination\": \"Nairobi\", \"Availability\": \"Available\", \"Price\": 377.00},\n",
    "    \"10th Oct\": {\"Departure City\": \"Nairobi\", \"Destination\": \"Los Angeles\", \"Availability\": \"Available\", \"Price\": 377.00},\n",
    "    \"11th Oct\": {\"Departure City\": \"Kisumu\", \"Destination\": \"New York\", \"Availability\": \"Unavailable\", \"Price\": 363.00},\n",
    "    \"12th Oct\": {\"Departure City\": \"Eldoret\", \"Destination\": \"Nairobi\", \"Availability\": \"Available\", \"Price\": 390.00},\n",
    "    \"13th Oct\": {\"Departure City\": \"Mombasa\", \"Destination\": \"Amboseli\", \"Availability\": \"Unavailable\", \"Price\": 390.00},\n",
    "    \"14th Oct\": {\"Departure City\": \"Kisumu\", \"Destination\": \"New York\", \"Availability\": \"Unavailable\", \"Price\": 387.00},\n",
    "    \"15th Oct\": {\"Departure City\": \"Nairobi\", \"Destination\": \"Los Angeles\", \"Availability\": \"Available\", \"Price\": 333.00},\n",
    "    \"16th Oct\": {\"Departure City\": \"Mombasa\", \"Destination\": \"New York\", \"Availability\": \"Available\", \"Price\": 320.00},\n",
    "    \"17th Oct\": {\"Departure City\": \"Mombasa\", \"Destination\": \"Nairobi\", \"Availability\": \"Unavailable\", \"Price\": 321.00},\n",
    "    \"18th Oct\": {\"Departure City\": \"Kisumu\", \"Destination\": \"Mumbai\", \"Availability\": \"Available\", \"Price\": 345.00},\n",
    "    \"19th Oct\": {\"Departure City\": \"Kisumu\", \"Destination\": \"Amboseli\", \"Availability\": \"Unavailable\", \"Price\": 327.00},\n",
    "    \"20th Oct\": {\"Departure City\": \"Mombasa\", \"Destination\": \"Mumbai\", \"Availability\": \"Unavailable\", \"Price\": 345.00},\n",
    "    \"21st Oct\": {\"Departure City\": \"Nairobi\", \"Destination\": \"New York\", \"Availability\": \"Unavailable\", \"Price\": 322.00},\n",
    "    \"22nd Oct\": {\"Departure City\": \"Mombasa\", \"Destination\": \"Los Angeles\", \"Availability\": \"Unavailable\", \"Price\": 376.00},\n",
    "    \"23rd Oct\": {\"Departure City\": \"Nairobi\", \"Destination\": \"Los Angeles\", \"Availability\": \"Available\", \"Price\": 365.00},\n",
    "    \"24th Oct\": {\"Departure City\": \"Mombasa\", \"Destination\": \"Amboseli\", \"Availability\": \"Available\", \"Price\": 344.00},\n",
    "    \"25th Oct\": {\"Departure City\": \"Eldoret\", \"Destination\": \"New York\", \"Availability\": \"Unavailable\", \"Price\": 319.00},\n",
    "    \"26th Oct\": {\"Departure City\": \"Nairobi\", \"Destination\": \"Dubai\", \"Availability\": \"Unavailable\", \"Price\": 320.00},\n",
    "    \"27th Oct\": {\"Departure City\": \"Eldoret\", \"Destination\": \"New York\", \"Availability\": \"Unavailable\", \"Price\": 334.00},\n",
    "    \"28th Oct\": {\"Departure City\": \"Mombasa\", \"Destination\": \"Mumbai\", \"Availability\": \"Unavailable\", \"Price\": 333.00},\n",
    "    \"29th Oct\": {\"Departure City\": \"Eldoret\", \"Destination\": \"Los Angeles\", \"Availability\": \"Available\", \"Price\": 377.00},\n",
    "    \"30th Oct\": {\"Departure City\": \"Mombasa\", \"Destination\": \"Dubai\", \"Availability\": \"Unavailable\", \"Price\": 368.00},\n",
    "    \"31st Oct\": {\"Departure City\": \"Nairobi\", \"Destination\": \"Los Angeles\", \"Availability\": \"Available\", \"Price\": 369.00}\n",
    "}\n",
    "hotel_reservations =  {\n",
    "    \"Mumbai International Hotel\": {\"Availability\": \"Available\", \"Price\": 600.00},\n",
    "    \"Trump Hotel\": {\"Availability\": \"Fully Booked\", \"Price\": 1000.00},\n",
    "    \"Jumanji Cuisine\": {\"Availability\": \"Available\", \"Price\": 1120.00},\n",
    "    \"Makerere International Hotel\": {\"Availability\": \"Fully Booked\", \"Price\": 890.00},\n",
    "    \"Nakasaki Hotel\": {\"Availability\": \"Available\", \"Price\": 690.00},\n",
    "    \"Tyson Resort\": {\"Availability\": \"Available\", \"Price\": 2500.00},\n",
    "    \"Pearly Beach Hotel\": {\"Availability\": \"Available\", \"Price\": 1230.00},\n",
    "    \"Poseidon Hotel\": {\"Availability\": \"Fully Booked\", \"Price\": 750.00},\n",
    "    \"Beach Front Resort\": {\"Availability\": \"Available\", \"Price\": 899.00},\n",
    "    \"Maersk Hotel\": {\"Availability\": \"Available\", \"Price\": 944.00},\n",
    "    \"Ashawaah Fine Resort\": {\"Availability\": \"Available\", \"Price\": 1500.00},\n",
    "    \"Lakefront Hotel\": {\"Availability\": \"Available\", \"Price\": 2499.00},\n",
    "    \"Republican Group of Hotels\": {\"Availability\": \"Fully Booked\", \"Price\": 1999.00}\n",
    "}\n",
    "\n",
    "travel_package = {\n",
    "    \"Masaai Mara\": {\"Price\": 119.00},\n",
    "    \"Lamu Archipelago\": {\"Price\": 449.00},\n",
    "    \"Nairobi National Park\": {\"Price\": 22.00},\n",
    "    \"Amboseli National Park\": {\"Price\": 249.00},\n",
    "    \"Mount Kenya & Central Higchlands\": {\"Price\": 149.00},\n",
    "    \"Lake Nakuru\": {\"Price\": 99.00},\n",
    "    \"Shaba and Samburu\": {\"Price\": 329.00},\n",
    "    \"Lake Victoria\": {\"Price\": 99.00},\n",
    "    \"Uhuru Park\": {\"Price\": 0.00}\n",
    "}\n",
    "\n",
    "\n",
    "my_empty_list = []  # To store user selections\n",
    "\n",
    "# Function to display available options\n",
    "def display_options():\n",
    "    print(\"\\nAvailable flights:\")\n",
    "    for dates,details in flight_bookings.items():\n",
    "        if details['Availability'] == 'Available':\n",
    "            print(f\" - {dates}\")\n",
    "    \n",
    "    print(\"\\nAvailable hotel reservations:\")\n",
    "    for hotel, details in hotel_reservations.items():\n",
    "        if details['Availability'] == 'Available':\n",
    "            print(f\" - {hotel}\")\n",
    "    \n",
    "    print(\"\\nAvailable travel packages:\")\n",
    "    for destination in travel_package.keys():\n",
    "        print(f\" - {destination}\")\n",
    "\n",
    "# Function to fetch flight details\n",
    "def fetch_flight_details(user_input):\n",
    "    for date in flight_bookings:\n",
    "        if user_input == date.lower():\n",
    "            details = flight_bookings[date]\n",
    "            return f\"The flight available for {date} is from {details['Departure City']} to {details['Destination']} and is priced at: {details['Price']} USD\"\n",
    "    return None        \n",
    "\n",
    "# Function to fetch hotel reservations\n",
    "def fetch_hotel_reservations(user_input):\n",
    "    for hotel in hotel_reservations:\n",
    "        if user_input == hotel.lower():\n",
    "            details = hotel_reservations[hotel]\n",
    "            return f\"The price for {hotel} is {details['Price']} USD per night, and it is currently {details['Availability']}\"\n",
    "    return None\n",
    "\n",
    "# Function to fetch travel packages\n",
    "def fetch_travel_package(user_input):\n",
    "    for package in travel_package:\n",
    "        if user_input == package.lower():\n",
    "            details = travel_package[package]\n",
    "            return f\"To travel to {package} will cost {details['Price']} USD\"\n",
    "    return None\n",
    "\n",
    "# Function to ask if the user has another question and append selections\n",
    "def cumulative_selections():\n",
    "    while True:\n",
    "        user_input = input(\"\\nDo you need anything else? Yes/No: \").lower()\n",
    "        if user_input == \"yes\":\n",
    "            print(\"Great! Here are your options again:\\n\")\n",
    "            display_options()\n",
    "            return\n",
    "        elif user_input == \"no\":\n",
    "            print(\"\\nThank you for your time! Here are all your selections:\")\n",
    "            print(my_empty_list)\n",
    "            break\n",
    "        else:\n",
    "            print(\"Please respond with 'Yes' or 'No'.\")\n",
    "\n",
    "# Main bot function processing user input\n",
    "def travel_chatbot(user_name, user_input):\n",
    "    # Call the fetch flight function\n",
    "    flight = fetch_flight_details(user_input)\n",
    "    if flight:\n",
    "        my_empty_list.append(flight)\n",
    "        return flight\n",
    "    \n",
    "    # Call the hotel reservation function\n",
    "    hotel = fetch_hotel_reservations(user_input)\n",
    "    if hotel:\n",
    "        my_empty_list.append(hotel)\n",
    "        return hotel\n",
    "    \n",
    "    # Call the travel package function\n",
    "    package = fetch_travel_package(user_input)\n",
    "    if package:\n",
    "        my_empty_list.append(package)\n",
    "        return package\n",
    "    \n",
    "    return \"I could not find any information based on your input.\"\n",
    "\n",
    "# Chatbot display upon startup\n",
    "user_name = input(\"Hello there, can I please have your name? \").lower()\n",
    "print(f\"Hello, {user_name}! I am your travel assistant today. Here are the travel options. Select what you want so I can assist you further. \\nType 'cancel' to end the conversation anytime.\")\n",
    "\n",
    "display_options()\n",
    "\n",
    "# Main bot function to handle the loop\n",
    "while True:\n",
    "    user_input = input(\"\\nYou: \").lower()\n",
    "    if user_input == \"cancel\":\n",
    "        print(\"Goodbye!\")\n",
    "        break\n",
    "\n",
    "    # Bot response\n",
    "    chatbot_response = travel_chatbot(user_name, user_input)\n",
    "    print(f\"Chatbot: {chatbot_response}\")\n",
    "    \n",
    "    # Ask if the user has another question\n",
    "    cumulative_selections()\n"
   ]
  },
  {
   "cell_type": "code",
   "execution_count": null,
   "id": "b8dc0adf-f13d-417d-8093-f1406760edd3",
   "metadata": {},
   "outputs": [],
   "source": []
  }
 ],
 "metadata": {
  "kernelspec": {
   "display_name": "Python 3 (ipykernel)",
   "language": "python",
   "name": "python3"
  },
  "language_info": {
   "codemirror_mode": {
    "name": "ipython",
    "version": 3
   },
   "file_extension": ".py",
   "mimetype": "text/x-python",
   "name": "python",
   "nbconvert_exporter": "python",
   "pygments_lexer": "ipython3",
   "version": "3.12.4"
  }
 },
 "nbformat": 4,
 "nbformat_minor": 5
}
