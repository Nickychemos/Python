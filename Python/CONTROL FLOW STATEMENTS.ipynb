{
 "cells": [
  {
   "cell_type": "markdown",
   "id": "9cf7aec7-fbad-429c-bff1-ab1c3ecd7770",
   "metadata": {},
   "source": [
    "## Temperature Check"
   ]
  },
  {
   "cell_type": "markdown",
   "id": "00cc5c08-005a-492c-a05c-cb36f62ce917",
   "metadata": {},
   "source": [
    "Create a program that checks the current temperature (input by the user) and prints out the appropriate messagee.”"
   ]
  },
  {
   "cell_type": "code",
   "execution_count": 4,
   "id": "a3a77605-deab-4091-bd8b-a96807f99b22",
   "metadata": {},
   "outputs": [],
   "source": [
    "# If the temperature is above 30, print “It’s hot outside.”\n",
    "# If the temperature is between 20 and 30, print “It’s warm outside.”\n",
    "# If the temperature is between 10 and 20, print “It’s cool outside \n",
    "# If the temperature is below 10, print “It’s cold outside.”"
   ]
  },
  {
   "cell_type": "code",
   "execution_count": 5,
   "id": "cfea8637-1ae8-4f70-949b-fe0ea12c07ed",
   "metadata": {},
   "outputs": [
    {
     "name": "stdin",
     "output_type": "stream",
     "text": [
      "Please enter the temperature:  0\n"
     ]
    },
    {
     "name": "stdout",
     "output_type": "stream",
     "text": [
      "It’s cold outside\n"
     ]
    }
   ],
   "source": [
    "temperature = int(input(\"Please enter the temperature: \"))\n",
    "\n",
    "if temperature >30:\n",
    "    print(\"It's hot outside.\")\n",
    "elif temperature >=20 and temperature <=30:\n",
    "    print(\"It’s warm outside.\")\n",
    "elif temperature >= 10 and temperature <20:\n",
    "    print(\"It’s cool outside\")\n",
    "elif temperature <10:\n",
    "    print(\"It’s cold outside\")"
   ]
  },
  {
   "cell_type": "markdown",
   "id": "e33e9305-0127-477c-8711-373405a4a1fa",
   "metadata": {},
   "source": [
    "## Grade Calculation"
   ]
  },
  {
   "cell_type": "markdown",
   "id": "5e1bd4fa-b323-418b-aa71-77b4ec6a4d40",
   "metadata": {},
   "source": [
    "Write a program that asks the user to input their exam score. Based on the score, the program should print the corresponding grade using the following criteria:"
   ]
  },
  {
   "cell_type": "code",
   "execution_count": 8,
   "id": "03332157-c7d8-4124-b916-5ba86ff9fb71",
   "metadata": {},
   "outputs": [],
   "source": [
    "#90 and above: Grade A\n",
    "#80 to 89: Grade B\n",
    "#70 to 79: Grade C\n",
    "#60 to 69: Grade D\n",
    "#Below 60: Grade F"
   ]
  },
  {
   "cell_type": "code",
   "execution_count": 9,
   "id": "d5231c16-5ab4-42ea-a2c2-21276df36f06",
   "metadata": {},
   "outputs": [
    {
     "name": "stdin",
     "output_type": "stream",
     "text": [
      "Please enter your exam score:  66\n"
     ]
    },
    {
     "name": "stdout",
     "output_type": "stream",
     "text": [
      "Grade D\n"
     ]
    }
   ],
   "source": [
    "exam_score = int(input(\"Please enter your exam score: \"))\n",
    "\n",
    "while exam_score < 0 or exam_score >100:\n",
    "    print(\"Please enter a correct score\")\n",
    "    exam_score = int(input(\"Please enter your exam score: \"))\n",
    "\n",
    "if exam_score >=90:\n",
    "    print(\"Grade A\")\n",
    "elif exam_score >= 80 and exam_score <=89:\n",
    "    print(\"Grade B\")\n",
    "elif exam_score >= 70 and exam_score <=79:\n",
    "    print(\"Grade C\")\n",
    "elif exam_score >= 60 and exam_score <=69:\n",
    "    print(\"Grade D\")\n",
    "else:\n",
    "    print(\"Grade F\")"
   ]
  },
  {
   "cell_type": "markdown",
   "id": "acfd6e07-d9d8-44ce-92fe-ab3d88275576",
   "metadata": {},
   "source": [
    "## Movie Ticket Price Calculation"
   ]
  },
  {
   "cell_type": "markdown",
   "id": "6ccf92ef-b01f-4deb-9360-c349a6027d9d",
   "metadata": {},
   "source": [
    "Write a program that calculates the price of a movie ticket based on the age of the user:"
   ]
  },
  {
   "cell_type": "code",
   "execution_count": 12,
   "id": "e8215b53-1af1-4b58-9206-ea9484030d5a",
   "metadata": {},
   "outputs": [],
   "source": [
    "#If the user is below 12, the ticket costs $5.\n",
    "#If the user is between 12 and 17, the ticket costs $7.\n",
    "#If the user is between 18 and 59, the ticket costs $10.\n",
    "#If the user is 60 or older, the ticket costs $6."
   ]
  },
  {
   "cell_type": "code",
   "execution_count": 13,
   "id": "77499c81-573f-4127-93f2-42254217805e",
   "metadata": {},
   "outputs": [
    {
     "name": "stdin",
     "output_type": "stream",
     "text": [
      "Please enter your age to know your discount:  22\n"
     ]
    },
    {
     "name": "stdout",
     "output_type": "stream",
     "text": [
      "The ticket costs $10.\n"
     ]
    }
   ],
   "source": [
    "age = int(input(\"Please enter your age to know your discount: \"))\n",
    "\n",
    "while age < 0 or age > 122:\n",
    "    print('Please enter a valid age')\n",
    "    age = int(input(\"Please enter your age to know your discount: \"))\n",
    "\n",
    "if age <12:\n",
    "    print(\"Your ticket costs $5.\")\n",
    "elif age >=12 and age <=17:\n",
    "    print(\"The ticket costs $7.\")\n",
    "elif age >=18 and age <=59:\n",
    "    print(\"The ticket costs $10.\")\n",
    "elif age >=60:\n",
    "    print(\"The ticket costs $6.\")"
   ]
  },
  {
   "cell_type": "markdown",
   "id": "bcae8a13-797b-4476-9002-f5243aea7c56",
   "metadata": {},
   "source": [
    "## Discount Calculation"
   ]
  },
  {
   "cell_type": "markdown",
   "id": "1a78847e-b845-4a04-a910-ab82a1dc4d18",
   "metadata": {},
   "source": [
    "Write a Python program that calculates the discount based on the total amount spent:"
   ]
  },
  {
   "cell_type": "code",
   "execution_count": 16,
   "id": "7b394e8f-9a07-41f7-aa08-0bee5af0493a",
   "metadata": {},
   "outputs": [],
   "source": [
    "#If the total is above $100, apply a 10% discount.\n",
    "#If the total is between $50 and $100, apply a 5% discount.\n",
    "#If the total is below $50, no discount is applied.\n",
    "\n",
    "#Print the final amount after applying the discount."
   ]
  },
  {
   "cell_type": "code",
   "execution_count": 17,
   "id": "e6d8a83b-2b08-44b3-af5c-79efadb156ca",
   "metadata": {},
   "outputs": [
    {
     "name": "stdin",
     "output_type": "stream",
     "text": [
      "Please input the total amount spent:  22\n"
     ]
    },
    {
     "name": "stdout",
     "output_type": "stream",
     "text": [
      "No discount is applied\n"
     ]
    }
   ],
   "source": [
    "total_amount_spent = int(input(\"Please input the total amount spent: \"))\n",
    "\n",
    "while total_amount_spent<0 :\n",
    "    print('Please enter a valid value')\n",
    "    total_amount_spent = int(input(\"Please input the total amount spent: \"))\n",
    "\n",
    "if total_amount_spent > 100:\n",
    "    print(\"Apply a 10% discount\")\n",
    "elif total_amount_spent >=50 and total_amount_spent <=100:\n",
    "    print(\"Apply a 5% discount\")\n",
    "else:\n",
    "    print(\"No discount is applied\")"
   ]
  },
  {
   "cell_type": "markdown",
   "id": "19ec3d3f-1bc1-476d-827d-4b669773d79d",
   "metadata": {},
   "source": [
    "## Nested Conditions for BMI Calculation"
   ]
  },
  {
   "cell_type": "markdown",
   "id": "0da90726-c9ec-4549-9e1f-c1c4efb597f1",
   "metadata": {},
   "source": [
    "Write a program that calculates the Body Mass Index (BMI) based on the user’s weight and height:"
   ]
  },
  {
   "cell_type": "code",
   "execution_count": 20,
   "id": "189d0817-083b-4de4-982d-da9d5a8df730",
   "metadata": {},
   "outputs": [],
   "source": [
    "#Ask the user to input their weight (in kg) and height (in meters).\n",
    "#Calculate BMI using the formula: BMI = weight / (height ** 2).\n",
    "#Based on the BMI value, print:\n",
    "#1. “Underweight” if BMI < 18.5\n",
    "#2. “Normal weight” if 18.5 ≤ BMI < 24.9\n",
    "#3. “Overweight” if 25 ≤ BMI < 29.9\n",
    "#4. “Obese” if BMI ≥ 30"
   ]
  },
  {
   "cell_type": "code",
   "execution_count": 21,
   "id": "7241e384-7b6d-4ebc-8ad5-d4de1e394d15",
   "metadata": {},
   "outputs": [
    {
     "name": "stdin",
     "output_type": "stream",
     "text": [
      "Please enter your weight in kg:  33\n",
      "Please enter your height in meters:  3\n"
     ]
    },
    {
     "name": "stdout",
     "output_type": "stream",
     "text": [
      "33.0 / 3.0 = \n",
      "3.6666666666666665\n",
      "You are underweight\n"
     ]
    }
   ],
   "source": [
    "weight = float(input(\"Please enter your weight in kg: \"))\n",
    "height = float(input(\"Please enter your height in meters: \"))\n",
    "\n",
    "BMI = weight/(height**2)\n",
    "\n",
    "#division \n",
    "print(\"{} / {} = \".format(weight, height))\n",
    "print(BMI)\n",
    "\n",
    "if BMI < 18.5:\n",
    "    print(\"You are underweight\")\n",
    "elif BMI >=18.5 and BMI <=24.9:\n",
    "    print(\"You have a normal weight\")\n",
    "elif BMI >=25 and BMI <=29.9:\n",
    "    print(\"You are overweight\")\n",
    "elif BMI >= 30:\n",
    "    print(\"You are obese\")"
   ]
  },
  {
   "cell_type": "markdown",
   "id": "05064019-425e-4726-91b1-fd75e7b7b26c",
   "metadata": {},
   "source": [
    "## Sum of Numbers"
   ]
  },
  {
   "cell_type": "code",
   "execution_count": 23,
   "id": "34e4351d-559d-4aec-95dc-bd552fb90f28",
   "metadata": {},
   "outputs": [],
   "source": [
    "# Write a Python program to find the sum of all numbers from 1 to n, where n is input by the user."
   ]
  },
  {
   "cell_type": "code",
   "execution_count": 24,
   "id": "5e59f4ec-7866-4a8e-af5d-f2d97551b541",
   "metadata": {},
   "outputs": [
    {
     "name": "stdin",
     "output_type": "stream",
     "text": [
      "Please enter your value 10\n"
     ]
    },
    {
     "name": "stdout",
     "output_type": "stream",
     "text": [
      "45\n"
     ]
    },
    {
     "name": "stdin",
     "output_type": "stream",
     "text": [
      "Please enter your value 7\n"
     ]
    },
    {
     "name": "stdout",
     "output_type": "stream",
     "text": [
      "21\n"
     ]
    },
    {
     "name": "stdin",
     "output_type": "stream",
     "text": [
      "Please enter your value 0\n"
     ]
    }
   ],
   "source": [
    "while number := int(input(\"Please enter your value\")):\n",
    "    print(sum(range(1,number)))\n",
    "# 0 is used to terminate the code"
   ]
  },
  {
   "cell_type": "markdown",
   "id": "c0767341-853f-47fe-9577-92db091b982d",
   "metadata": {},
   "source": [
    "## Multiplication Table "
   ]
  },
  {
   "cell_type": "code",
   "execution_count": 26,
   "id": "b6a8240c-271e-4e08-87d9-c9dcd5401615",
   "metadata": {},
   "outputs": [],
   "source": [
    "# Write a Python program that prints a multiplication table for numbers from 1 to 10 using a nested for loop."
   ]
  },
  {
   "cell_type": "code",
   "execution_count": 27,
   "id": "51e593ea-0731-4aeb-8b78-03f975b832d9",
   "metadata": {},
   "outputs": [
    {
     "name": "stdout",
     "output_type": "stream",
     "text": [
      "i: 1* j: 1 = 1\n",
      "i: 1* j: 2 = 2\n",
      "i: 1* j: 3 = 3\n",
      "i: 1* j: 4 = 4\n",
      "i: 1* j: 5 = 5\n",
      "i: 1* j: 6 = 6\n",
      "i: 1* j: 7 = 7\n",
      "i: 1* j: 8 = 8\n",
      "i: 1* j: 9 = 9\n",
      "i: 1* j: 10 = 10\n",
      "i: 2* j: 1 = 2\n",
      "i: 2* j: 2 = 4\n",
      "i: 2* j: 3 = 6\n",
      "i: 2* j: 4 = 8\n",
      "i: 2* j: 5 = 10\n",
      "i: 2* j: 6 = 12\n",
      "i: 2* j: 7 = 14\n",
      "i: 2* j: 8 = 16\n",
      "i: 2* j: 9 = 18\n",
      "i: 2* j: 10 = 20\n",
      "i: 3* j: 1 = 3\n",
      "i: 3* j: 2 = 6\n",
      "i: 3* j: 3 = 9\n",
      "i: 3* j: 4 = 12\n",
      "i: 3* j: 5 = 15\n",
      "i: 3* j: 6 = 18\n",
      "i: 3* j: 7 = 21\n",
      "i: 3* j: 8 = 24\n",
      "i: 3* j: 9 = 27\n",
      "i: 3* j: 10 = 30\n",
      "i: 4* j: 1 = 4\n",
      "i: 4* j: 2 = 8\n",
      "i: 4* j: 3 = 12\n",
      "i: 4* j: 4 = 16\n",
      "i: 4* j: 5 = 20\n",
      "i: 4* j: 6 = 24\n",
      "i: 4* j: 7 = 28\n",
      "i: 4* j: 8 = 32\n",
      "i: 4* j: 9 = 36\n",
      "i: 4* j: 10 = 40\n",
      "i: 5* j: 1 = 5\n",
      "i: 5* j: 2 = 10\n",
      "i: 5* j: 3 = 15\n",
      "i: 5* j: 4 = 20\n",
      "i: 5* j: 5 = 25\n",
      "i: 5* j: 6 = 30\n",
      "i: 5* j: 7 = 35\n",
      "i: 5* j: 8 = 40\n",
      "i: 5* j: 9 = 45\n",
      "i: 5* j: 10 = 50\n",
      "i: 6* j: 1 = 6\n",
      "i: 6* j: 2 = 12\n",
      "i: 6* j: 3 = 18\n",
      "i: 6* j: 4 = 24\n",
      "i: 6* j: 5 = 30\n",
      "i: 6* j: 6 = 36\n",
      "i: 6* j: 7 = 42\n",
      "i: 6* j: 8 = 48\n",
      "i: 6* j: 9 = 54\n",
      "i: 6* j: 10 = 60\n",
      "i: 7* j: 1 = 7\n",
      "i: 7* j: 2 = 14\n",
      "i: 7* j: 3 = 21\n",
      "i: 7* j: 4 = 28\n",
      "i: 7* j: 5 = 35\n",
      "i: 7* j: 6 = 42\n",
      "i: 7* j: 7 = 49\n",
      "i: 7* j: 8 = 56\n",
      "i: 7* j: 9 = 63\n",
      "i: 7* j: 10 = 70\n",
      "i: 8* j: 1 = 8\n",
      "i: 8* j: 2 = 16\n",
      "i: 8* j: 3 = 24\n",
      "i: 8* j: 4 = 32\n",
      "i: 8* j: 5 = 40\n",
      "i: 8* j: 6 = 48\n",
      "i: 8* j: 7 = 56\n",
      "i: 8* j: 8 = 64\n",
      "i: 8* j: 9 = 72\n",
      "i: 8* j: 10 = 80\n",
      "i: 9* j: 1 = 9\n",
      "i: 9* j: 2 = 18\n",
      "i: 9* j: 3 = 27\n",
      "i: 9* j: 4 = 36\n",
      "i: 9* j: 5 = 45\n",
      "i: 9* j: 6 = 54\n",
      "i: 9* j: 7 = 63\n",
      "i: 9* j: 8 = 72\n",
      "i: 9* j: 9 = 81\n",
      "i: 9* j: 10 = 90\n",
      "i: 10* j: 1 = 10\n",
      "i: 10* j: 2 = 20\n",
      "i: 10* j: 3 = 30\n",
      "i: 10* j: 4 = 40\n",
      "i: 10* j: 5 = 50\n",
      "i: 10* j: 6 = 60\n",
      "i: 10* j: 7 = 70\n",
      "i: 10* j: 8 = 80\n",
      "i: 10* j: 9 = 90\n",
      "i: 10* j: 10 = 100\n"
     ]
    }
   ],
   "source": [
    "for i in range (1,11):\n",
    "    for j in range (1,11):\n",
    "        print(f\"i: {i}* j: {j} = {i*j}\")"
   ]
  },
  {
   "cell_type": "markdown",
   "id": "3aca2a95-784e-4f79-93a0-807309b27058",
   "metadata": {},
   "source": [
    "## Even and Odd Number "
   ]
  },
  {
   "cell_type": "markdown",
   "id": "964c4170-7df9-4643-b884-f0f40650474d",
   "metadata": {},
   "source": [
    "Write a Python program that prints all the even and odd numbers between 1 and 20."
   ]
  },
  {
   "cell_type": "code",
   "execution_count": 30,
   "id": "bd08fdb9-9140-4329-80f3-9940be0b2b31",
   "metadata": {},
   "outputs": [
    {
     "name": "stdout",
     "output_type": "stream",
     "text": [
      "1 is an odd number\n",
      "2 an even number\n",
      "3 is an odd number\n",
      "4 an even number\n",
      "5 is an odd number\n",
      "6 an even number\n",
      "7 is an odd number\n",
      "8 an even number\n",
      "9 is an odd number\n",
      "10 an even number\n",
      "11 is an odd number\n",
      "12 an even number\n",
      "13 is an odd number\n",
      "14 an even number\n",
      "15 is an odd number\n",
      "16 an even number\n",
      "17 is an odd number\n",
      "18 an even number\n",
      "19 is an odd number\n",
      "20 an even number\n"
     ]
    }
   ],
   "source": [
    "for i in range(1,21):\n",
    "    if i %2 == 0:\n",
    "        print(f'{i} an even number')\n",
    "    elif i %2 != 0:\n",
    "        print(f'{i} is an odd number')"
   ]
  },
  {
   "cell_type": "markdown",
   "id": "b5eac597-ff18-4224-904f-f2ff43968177",
   "metadata": {},
   "source": [
    "## Sum of Digits"
   ]
  },
  {
   "cell_type": "code",
   "execution_count": 32,
   "id": "a97249b9-9bf9-4fa1-b0ac-8dd4db3036f0",
   "metadata": {},
   "outputs": [],
   "source": [
    "#Write a Python program that takes a positive integer input from the user and calculates the sum of its digits using a while loop."
   ]
  },
  {
   "cell_type": "code",
   "execution_count": 52,
   "id": "0471e4ff-b7d1-4416-9cef-989b8c4518b9",
   "metadata": {},
   "outputs": [
    {
     "name": "stdin",
     "output_type": "stream",
     "text": [
      "Please enter a positive value:  123\n"
     ]
    },
    {
     "name": "stdout",
     "output_type": "stream",
     "text": [
      "6\n"
     ]
    }
   ],
   "source": [
    "number = int(input(\"Please enter a positive value: \"))\n",
    "\n",
    "sum = 0\n",
    "\n",
    "while number > 0:\n",
    "    sum = sum+(number%10)\n",
    "    number = number//10\n",
    "\n",
    "print(sum)"
   ]
  },
  {
   "cell_type": "code",
   "execution_count": null,
   "id": "871e74f3-7fb3-49a9-8e9e-d8b38729e979",
   "metadata": {},
   "outputs": [],
   "source": []
  }
 ],
 "metadata": {
  "kernelspec": {
   "display_name": "Python 3 (ipykernel)",
   "language": "python",
   "name": "python3"
  },
  "language_info": {
   "codemirror_mode": {
    "name": "ipython",
    "version": 3
   },
   "file_extension": ".py",
   "mimetype": "text/x-python",
   "name": "python",
   "nbconvert_exporter": "python",
   "pygments_lexer": "ipython3",
   "version": "3.12.4"
  }
 },
 "nbformat": 4,
 "nbformat_minor": 5
}
