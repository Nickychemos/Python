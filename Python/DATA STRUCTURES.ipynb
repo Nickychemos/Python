{
 "cells": [
  {
   "cell_type": "markdown",
   "id": "e94a5025-95de-4bae-92cd-008ca63b34a4",
   "metadata": {},
   "source": [
    "# List Operations"
   ]
  },
  {
   "cell_type": "markdown",
   "id": "f6b122d8-8a8f-4503-b52b-acf668d35054",
   "metadata": {},
   "source": [
    " - Create a list of 5 fruits"
   ]
  },
  {
   "cell_type": "code",
   "execution_count": 4,
   "id": "ae572e76-3944-47f3-af57-87e13a6457a9",
   "metadata": {},
   "outputs": [
    {
     "data": {
      "text/plain": [
       "['Mango', 'Banana', 'Orange', 'Kiwi', 'Watermelon']"
      ]
     },
     "execution_count": 4,
     "metadata": {},
     "output_type": "execute_result"
    }
   ],
   "source": [
    "fruits = ['Mango', 'Banana', 'Orange', 'Kiwi', 'Watermelon']\n",
    "fruits"
   ]
  },
  {
   "cell_type": "markdown",
   "id": "f52b73f8-d1ad-4a18-89ed-3504354a8f14",
   "metadata": {},
   "source": [
    "## Perform the following operations"
   ]
  },
  {
   "cell_type": "markdown",
   "id": "9c0f9830-d64b-49d0-9b22-3d4d7041a378",
   "metadata": {},
   "source": [
    "1. Add another fruit to the list."
   ]
  },
  {
   "cell_type": "code",
   "execution_count": 7,
   "id": "b00133ee-adad-47db-b638-19a46684ea00",
   "metadata": {},
   "outputs": [
    {
     "data": {
      "text/plain": [
       "['Mango', 'Banana', 'Orange', 'Kiwi', 'Watermelon', 'Pear']"
      ]
     },
     "execution_count": 7,
     "metadata": {},
     "output_type": "execute_result"
    }
   ],
   "source": [
    "fruits.append('Pear')\n",
    "fruits"
   ]
  },
  {
   "cell_type": "markdown",
   "id": "b47c8a6d-c056-4a47-ab8c-56759e34d4d7",
   "metadata": {},
   "source": [
    "2. Remove a fruit from the list."
   ]
  },
  {
   "cell_type": "code",
   "execution_count": 9,
   "id": "180f228a-dd34-49cc-851b-5cf8d0e6d4ce",
   "metadata": {},
   "outputs": [
    {
     "data": {
      "text/plain": [
       "['Mango', 'Banana', 'Orange', 'Kiwi', 'Watermelon']"
      ]
     },
     "execution_count": 9,
     "metadata": {},
     "output_type": "execute_result"
    }
   ],
   "source": [
    "fruits.remove('Pear')\n",
    "fruits"
   ]
  },
  {
   "cell_type": "markdown",
   "id": "1121cca8-6966-4604-bb00-f68d469dff1a",
   "metadata": {},
   "source": [
    "3. Sort the list alphabetically"
   ]
  },
  {
   "cell_type": "code",
   "execution_count": 11,
   "id": "927d1946-bf82-4a6f-b073-f76cc7a9127a",
   "metadata": {},
   "outputs": [
    {
     "data": {
      "text/plain": [
       "['Banana', 'Kiwi', 'Mango', 'Orange', 'Watermelon']"
      ]
     },
     "execution_count": 11,
     "metadata": {},
     "output_type": "execute_result"
    }
   ],
   "source": [
    "fruits.sort()\n",
    "fruits"
   ]
  },
  {
   "cell_type": "markdown",
   "id": "e8eadffd-fe48-4010-b361-a4d1eaafe8aa",
   "metadata": {},
   "source": [
    "4. Count how many fruits are in the list"
   ]
  },
  {
   "cell_type": "code",
   "execution_count": 13,
   "id": "7e957af0-7bde-4c2d-8ad3-7a83fc77b4ec",
   "metadata": {},
   "outputs": [
    {
     "name": "stdout",
     "output_type": "stream",
     "text": [
      "6\n"
     ]
    }
   ],
   "source": [
    "length= len('fruits')\n",
    "print(length)"
   ]
  },
  {
   "cell_type": "markdown",
   "id": "c2cec469-d467-4106-9e24-bab88817d446",
   "metadata": {},
   "source": [
    "5. Check if a particular fruit (e.g., “banana”) is in the list"
   ]
  },
  {
   "cell_type": "code",
   "execution_count": 15,
   "id": "6cc0a9d4-465a-4523-8eed-2e744083d7d6",
   "metadata": {},
   "outputs": [
    {
     "data": {
      "text/plain": [
       "True"
      ]
     },
     "execution_count": 15,
     "metadata": {},
     "output_type": "execute_result"
    }
   ],
   "source": [
    "checking_for_Banana = 'Banana' in fruits\n",
    "checking_for_Banana "
   ]
  },
  {
   "cell_type": "markdown",
   "id": "8714e939-d07b-4b65-a8f3-d126871968b5",
   "metadata": {},
   "source": [
    "6. Reverse the list and display the result"
   ]
  },
  {
   "cell_type": "code",
   "execution_count": 17,
   "id": "9bae5ef9-5c2f-46f6-af11-862ebc514a67",
   "metadata": {},
   "outputs": [
    {
     "data": {
      "text/plain": [
       "['Watermelon', 'Orange', 'Mango', 'Kiwi', 'Banana']"
      ]
     },
     "execution_count": 17,
     "metadata": {},
     "output_type": "execute_result"
    }
   ],
   "source": [
    "fruits.reverse()\n",
    "fruits"
   ]
  },
  {
   "cell_type": "markdown",
   "id": "83724142-3a92-465a-b397-61549671abe7",
   "metadata": {},
   "source": [
    "7. Remove all fruits from the list at once using a method"
   ]
  },
  {
   "cell_type": "code",
   "execution_count": 19,
   "id": "844027c0-d077-4a00-8561-19fa44583f62",
   "metadata": {},
   "outputs": [
    {
     "data": {
      "text/plain": [
       "[]"
      ]
     },
     "execution_count": 19,
     "metadata": {},
     "output_type": "execute_result"
    }
   ],
   "source": [
    "fruits.clear()\n",
    "fruits"
   ]
  },
  {
   "cell_type": "markdown",
   "id": "6789f570-0c55-404b-b393-f759d09dd66d",
   "metadata": {},
   "source": [
    "# Tuple Operations"
   ]
  },
  {
   "cell_type": "markdown",
   "id": "57c0e378-c6e9-49c6-8ec4-264079d69523",
   "metadata": {},
   "source": [
    "- Create a tuple of 5 different numbers"
   ]
  },
  {
   "cell_type": "code",
   "execution_count": 22,
   "id": "2cf3c002-8940-466d-82a9-e6fcd4f8ae41",
   "metadata": {},
   "outputs": [
    {
     "data": {
      "text/plain": [
       "(1, 2, 3, 4, 5)"
      ]
     },
     "execution_count": 22,
     "metadata": {},
     "output_type": "execute_result"
    }
   ],
   "source": [
    "my_tuple = (1,2,3,4,5)\n",
    "my_tuple"
   ]
  },
  {
   "cell_type": "markdown",
   "id": "1d46a0e8-9bd2-4370-a214-b55976cda249",
   "metadata": {},
   "source": [
    "1. Calculate the sum, minimum, and maximum of the numbers in the tuple"
   ]
  },
  {
   "cell_type": "code",
   "execution_count": 24,
   "id": "a0ad17c8-8297-495a-86cc-f2e9fcc08c49",
   "metadata": {},
   "outputs": [
    {
     "data": {
      "text/plain": [
       "15"
      ]
     },
     "execution_count": 24,
     "metadata": {},
     "output_type": "execute_result"
    }
   ],
   "source": [
    "Total = sum(my_tuple) #sum\n",
    "Total"
   ]
  },
  {
   "cell_type": "code",
   "execution_count": 25,
   "id": "b9d6d717-6e0e-415c-8293-d37109cb2876",
   "metadata": {},
   "outputs": [
    {
     "data": {
      "text/plain": [
       "1"
      ]
     },
     "execution_count": 25,
     "metadata": {},
     "output_type": "execute_result"
    }
   ],
   "source": [
    "min_value = min(my_tuple)# minimum\n",
    "min_value"
   ]
  },
  {
   "cell_type": "code",
   "execution_count": 26,
   "id": "4f6628b8-c0fb-4bd0-8249-ae5e1e8e1fcc",
   "metadata": {},
   "outputs": [
    {
     "data": {
      "text/plain": [
       "5"
      ]
     },
     "execution_count": 26,
     "metadata": {},
     "output_type": "execute_result"
    }
   ],
   "source": [
    "max_value = max(my_tuple)#maximum\n",
    "max_value"
   ]
  },
  {
   "cell_type": "markdown",
   "id": "b769653a-e2f5-4975-adc8-af36f43dc484",
   "metadata": {},
   "source": [
    "2. Find the index of a specific number in the tuple"
   ]
  },
  {
   "cell_type": "code",
   "execution_count": 28,
   "id": "827dfeaa-27b1-40c3-bd05-2bc5c7ae20a4",
   "metadata": {},
   "outputs": [
    {
     "data": {
      "text/plain": [
       "4"
      ]
     },
     "execution_count": 28,
     "metadata": {},
     "output_type": "execute_result"
    }
   ],
   "source": [
    "index_5 = my_tuple.index(5)\n",
    "index_5"
   ]
  },
  {
   "cell_type": "markdown",
   "id": "e47c510f-eb0e-47a7-abac-21e00ec5ddb1",
   "metadata": {},
   "source": [
    "3. Check if a number (e.g., 15) exists in the tuple"
   ]
  },
  {
   "cell_type": "code",
   "execution_count": 30,
   "id": "1072b848-81ca-4b27-88ac-05fe01b8831b",
   "metadata": {},
   "outputs": [
    {
     "data": {
      "text/plain": [
       "True"
      ]
     },
     "execution_count": 30,
     "metadata": {},
     "output_type": "execute_result"
    }
   ],
   "source": [
    "if_2_exists = 2 in my_tuple\n",
    "if_2_exists"
   ]
  },
  {
   "cell_type": "markdown",
   "id": "1047de98-cb45-4db8-80ab-ace71d349012",
   "metadata": {},
   "source": [
    "4. Convert the tuple into a list, add a number to the list, and convert it back to a tuple."
   ]
  },
  {
   "cell_type": "code",
   "execution_count": 32,
   "id": "10502a2a-fdcf-41c4-b415-8c2bdf7e2075",
   "metadata": {},
   "outputs": [
    {
     "data": {
      "text/plain": [
       "[1, 2, 3, 4, 5]"
      ]
     },
     "execution_count": 32,
     "metadata": {},
     "output_type": "execute_result"
    }
   ],
   "source": [
    "new_tuple = list(my_tuple)\n",
    "new_tuple"
   ]
  },
  {
   "cell_type": "code",
   "execution_count": 33,
   "id": "45493d36-39bc-4a9c-8b2d-fe588deecadf",
   "metadata": {},
   "outputs": [
    {
     "data": {
      "text/plain": [
       "[6, 1, 2, 3, 4, 5]"
      ]
     },
     "execution_count": 33,
     "metadata": {},
     "output_type": "execute_result"
    }
   ],
   "source": [
    "new_tuple.insert(0,6)\n",
    "new_tuple"
   ]
  },
  {
   "cell_type": "code",
   "execution_count": 34,
   "id": "d96e1d76-c26a-42e7-9f73-eca04e0e3faf",
   "metadata": {},
   "outputs": [
    {
     "data": {
      "text/plain": [
       "(6, 1, 2, 3, 4, 5)"
      ]
     },
     "execution_count": 34,
     "metadata": {},
     "output_type": "execute_result"
    }
   ],
   "source": [
    "updated_tuple = tuple(new_tuple)\n",
    "updated_tuple"
   ]
  },
  {
   "cell_type": "markdown",
   "id": "0871be92-b9cf-41b3-a9a1-7a45a3c86fdc",
   "metadata": {},
   "source": [
    "# Dictionary Operations"
   ]
  },
  {
   "cell_type": "markdown",
   "id": "362fd3c3-634b-4116-ba52-2aa476481d03",
   "metadata": {},
   "source": [
    "- Create a dictionary to store information about three students "
   ]
  },
  {
   "cell_type": "code",
   "execution_count": 37,
   "id": "be152418-57cd-47f8-a03f-83d520d828c2",
   "metadata": {},
   "outputs": [
    {
     "data": {
      "text/plain": [
       "{'Jake': {'age': 20, 'grade': 'B'},\n",
       " 'Jimna': {'age': 22, 'grade': 'A'},\n",
       " 'Robert': {'age': 19, 'grade': 'C'}}"
      ]
     },
     "execution_count": 37,
     "metadata": {},
     "output_type": "execute_result"
    }
   ],
   "source": [
    "students = {\n",
    "   \"Jake\":{\"age\": 20, \"grade\": \"B\"},\n",
    "    \"Jimna\":{\"age\": 22, \"grade\": \"A\"},\n",
    "    \"Robert\": {\"age\": 19, \"grade\": \"C\"}\n",
    "}\n",
    "students"
   ]
  },
  {
   "cell_type": "markdown",
   "id": "042621c9-66b2-436b-acb1-aa8354d7b55f",
   "metadata": {},
   "source": [
    "1. Add a new student to the dictionary."
   ]
  },
  {
   "cell_type": "code",
   "execution_count": 39,
   "id": "ba6eac6c-880e-43fc-bbcc-664985a4bb4f",
   "metadata": {},
   "outputs": [
    {
     "data": {
      "text/plain": [
       "{'Jake': {'age': 20, 'grade': 'B'},\n",
       " 'Jimna': {'age': 22, 'grade': 'A'},\n",
       " 'Robert': {'age': 19, 'grade': 'C'},\n",
       " 'Job': {'age': 33, 'grade': 'A'}}"
      ]
     },
     "execution_count": 39,
     "metadata": {},
     "output_type": "execute_result"
    }
   ],
   "source": [
    "students [\"Job\"]= {\"age\": 33, \"grade\": \"A\"}\n",
    "students"
   ]
  },
  {
   "cell_type": "markdown",
   "id": "997c02ef-8c1c-4f6d-95eb-4cc247491675",
   "metadata": {},
   "source": [
    "2. Update the grade of one student"
   ]
  },
  {
   "cell_type": "code",
   "execution_count": 41,
   "id": "a212f622-1166-4872-950d-3f85e72e8fa6",
   "metadata": {},
   "outputs": [
    {
     "data": {
      "text/plain": [
       "{'Jake': {'age': 20, 'grade': 'B'},\n",
       " 'Jimna': {'age': 22, 'grade': 'A'},\n",
       " 'Robert': {'age': 19, 'grade': 'C'},\n",
       " 'Job': {'age': 33, 'grade': 'B'}}"
      ]
     },
     "execution_count": 41,
     "metadata": {},
     "output_type": "execute_result"
    }
   ],
   "source": [
    "students['Job']= {\"age\": 33, \"grade\": \"B\"} # replacing the whole column\n",
    "students"
   ]
  },
  {
   "cell_type": "code",
   "execution_count": 42,
   "id": "dd2f53e4-4192-4a97-9c84-3e55f9b95e18",
   "metadata": {},
   "outputs": [
    {
     "data": {
      "text/plain": [
       "{'Jake': {'age': 20, 'grade': 'B'},\n",
       " 'Jimna': {'age': 22, 'grade': 'A'},\n",
       " 'Robert': {'age': 19, 'grade': 'C'},\n",
       " 'Job': {'age': 33, 'grade': 'C'}}"
      ]
     },
     "execution_count": 42,
     "metadata": {},
     "output_type": "execute_result"
    }
   ],
   "source": [
    "students['Job'].update({\"age\": 33, \"grade\": \"C\"})# using update function\n",
    "students"
   ]
  },
  {
   "cell_type": "markdown",
   "id": "e464d60e-4b4a-48ec-9cbd-49e6ca64ebb5",
   "metadata": {},
   "source": [
    "3. Remove a student from the dictionary."
   ]
  },
  {
   "cell_type": "code",
   "execution_count": 44,
   "id": "334bba3d-b7d3-482a-9bbd-be35ebdc7f80",
   "metadata": {},
   "outputs": [
    {
     "data": {
      "text/plain": [
       "{'Jake': {'age': 20, 'grade': 'B'},\n",
       " 'Jimna': {'age': 22, 'grade': 'A'},\n",
       " 'Robert': {'age': 19, 'grade': 'C'}}"
      ]
     },
     "execution_count": 44,
     "metadata": {},
     "output_type": "execute_result"
    }
   ],
   "source": [
    "del students['Job']\n",
    "students"
   ]
  },
  {
   "cell_type": "markdown",
   "id": "0dccf878-a8d5-4ef3-8dde-ce38ecc0bced",
   "metadata": {},
   "source": [
    "4. Print out the dictionary showing each student’s name, age, and grade."
   ]
  },
  {
   "cell_type": "code",
   "execution_count": 46,
   "id": "12717131-fcf2-483c-819b-5252b62863a2",
   "metadata": {},
   "outputs": [
    {
     "data": {
      "text/plain": [
       "{'Jake': {'age': 20, 'grade': 'B'},\n",
       " 'Jimna': {'age': 22, 'grade': 'A'},\n",
       " 'Robert': {'age': 19, 'grade': 'C'}}"
      ]
     },
     "execution_count": 46,
     "metadata": {},
     "output_type": "execute_result"
    }
   ],
   "source": [
    "students"
   ]
  },
  {
   "cell_type": "markdown",
   "id": "e53b3c08-ffef-4763-9768-5f9acf34327f",
   "metadata": {},
   "source": [
    "5. Check if a student (e.g., “John”) exists in the dictionary"
   ]
  },
  {
   "cell_type": "code",
   "execution_count": 48,
   "id": "b67f084a-2011-4b21-91de-12ee78d47965",
   "metadata": {},
   "outputs": [
    {
     "data": {
      "text/plain": [
       "True"
      ]
     },
     "execution_count": 48,
     "metadata": {},
     "output_type": "execute_result"
    }
   ],
   "source": [
    "does_Robert_exist = 'Robert' in students\n",
    "does_Robert_exist"
   ]
  },
  {
   "cell_type": "markdown",
   "id": "5841de62-cd0e-4bcc-9afd-1065ef819961",
   "metadata": {},
   "source": [
    "6. List all student names and their grades only (exclude age)"
   ]
  },
  {
   "cell_type": "code",
   "execution_count": 63,
   "id": "677d3378-e5b1-4181-b459-d16d20c096e7",
   "metadata": {},
   "outputs": [
    {
     "name": "stdout",
     "output_type": "stream",
     "text": [
      "Jake: B\n",
      "Jimna: A\n",
      "Robert: C\n"
     ]
    }
   ],
   "source": [
    "for name, details in students.items():\n",
    "    print(name+ ': '+ details['grade'])"
   ]
  },
  {
   "cell_type": "markdown",
   "id": "3c51460c-afc8-49b6-853e-954d04b308cb",
   "metadata": {},
   "source": [
    "7. Clear the dictionary using the appropriate method."
   ]
  },
  {
   "cell_type": "code",
   "execution_count": 79,
   "id": "5cda01e4-cce1-4ff1-99ef-6d77b68a66fe",
   "metadata": {},
   "outputs": [
    {
     "data": {
      "text/plain": [
       "{}"
      ]
     },
     "execution_count": 79,
     "metadata": {},
     "output_type": "execute_result"
    }
   ],
   "source": [
    "students.clear()\n",
    "students"
   ]
  }
 ],
 "metadata": {
  "kernelspec": {
   "display_name": "Python 3 (ipykernel)",
   "language": "python",
   "name": "python3"
  },
  "language_info": {
   "codemirror_mode": {
    "name": "ipython",
    "version": 3
   },
   "file_extension": ".py",
   "mimetype": "text/x-python",
   "name": "python",
   "nbconvert_exporter": "python",
   "pygments_lexer": "ipython3",
   "version": "3.12.4"
  }
 },
 "nbformat": 4,
 "nbformat_minor": 5
}
